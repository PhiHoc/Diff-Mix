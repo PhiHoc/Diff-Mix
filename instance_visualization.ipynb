{
 "cells": [
  {
   "cell_type": "code",
   "execution_count": null,
   "metadata": {},
   "outputs": [],
   "source": [
    "import os\n",
    "import sys\n",
    "sys.path.append('../')\n",
    "from utils import visualize_images\n",
    "from diffusers import StableDiffusionPipeline\n",
    "from semantic_aug.augmentations.textual_inversion import load_embeddings\n",
    "device = 'cuda:1'\n",
    "os.environ[\"DISABLE_TELEMETRY\"] = 'YES'\n",
    "pipe = StableDiffusionPipeline.from_pretrained(\"runwayml/stable-diffusion-v1-5\",local_files_only = True).to(device)"
   ]
  },
  {
   "cell_type": "code",
   "execution_count": null,
   "metadata": {},
   "outputs": [],
   "source": []
  },
  {
   "cell_type": "markdown",
   "metadata": {},
   "source": [
    "## Using the montage to showcase the generated samples of different fine-tuning strategies."
   ]
  },
  {
   "cell_type": "code",
   "execution_count": null,
   "metadata": {},
   "outputs": [],
   "source": [
    "from PIL import Image\n",
    "import os\n",
    "from utils import DATASET_NAME_MAPPING\n",
    "import random\n",
    "def create_image_grid(input_dir, output_path):\n",
    "    image_files = [f for f in os.listdir(input_dir) if f.endswith(('.jpg', '.png', '.jpeg'))]\n",
    "    random.shuffle(image_files)\n",
    "    while len(image_files) < 8:\n",
    "        image_files.append(None)\n",
    "\n",
    "    grid_image = Image.new('RGB', (224*8, 224*1), (255, 255, 255))\n",
    "\n",
    "    for i in range(8):\n",
    "        row = i // 8\n",
    "        col = i % 8\n",
    "\n",
    "        if image_files[i] is not None:\n",
    "            image_path = os.path.join(input_dir, image_files[i])\n",
    "            img = Image.open(image_path)\n",
    "            img = img.resize((224, 224), Image.ANTIALIAS)\n",
    "            grid_image.paste(img, (col * 224, row * 224))\n",
    "        else:\n",
    "            grid_image.paste(Image.new('RGB', (224, 224), (255, 255, 255)), (col * 224, row * 224))\n",
    "\n",
    "    grid_image.save(output_path)\n",
    "    \n",
    "def create_image_grid_for_ds(dataset_name, class_name, output_path):\n",
    "    ds = DATASET_NAME_MAPPING[dataset_name]()\n",
    "    target_indices=ds.label_to_indices[ds.class2label[class_name.replace('_', ' ')]]\n",
    "\n",
    "    while len(target_indices) < 8:\n",
    "        target_indices.append(None)\n",
    "\n",
    "    grid_image = Image.new('RGB', (224*8, 224*1), (255, 255, 255))\n",
    "\n",
    "    for i in range(8):\n",
    "        row = i // 8\n",
    "        col = i % 8\n",
    "\n",
    "        if target_indices[i] is not None:\n",
    "            img = ds.get_image_by_idx(target_indices[i])\n",
    "            img = img.resize((224, 224), Image.ANTIALIAS)\n",
    "            grid_image.paste(img, (col * 224, row * 224))\n",
    "        else:\n",
    "            grid_image.paste(Image.new('RGB', (224, 224), (255, 255, 255)), (col * 224, row * 224))\n",
    "\n",
    "    grid_image.save(output_path)"
   ]
  },
  {
   "cell_type": "code",
   "execution_count": null,
   "metadata": {},
   "outputs": [],
   "source": [
    "dataset_name='cub'\n",
    "dirname = 'American_Three_toed_Woodpecker'\n",
    "output_path = f'../figures/case_real_{dirname}.pdf'\n",
    "create_image_grid_for_ds(dataset_name,dirname, output_path)\n",
    "\n",
    "input_directory = f'../outputs/aug_samples/cub/real-generation-Multi5/data/{dirname}'\n",
    "output_path = f'../figures/case_realgen_{dirname}.pdf'\n",
    "create_image_grid(input_directory, output_path)\n",
    "for strategy in ['db','ti','ti_db']:\n",
    "    input_directory = f'../outputs/aug_samples/cub/dreambooth-lora-generation-Multi1_{strategy}_latest/data/{dirname}'\n",
    "    output_path = f'../figures/case_{strategy}_{dirname}.pdf'\n",
    "    create_image_grid(input_directory, output_path)"
   ]
  },
  {
   "cell_type": "markdown",
   "metadata": {},
   "source": [
    "## Instance visualization"
   ]
  },
  {
   "cell_type": "code",
   "execution_count": null,
   "metadata": {},
   "outputs": [],
   "source": [
    "import random\n",
    "from utils import DATASET_NAME_MAPPING, AUGMENT, parse_finetuned_ckpt\n",
    "\n",
    "gpu_id = 0\n",
    "seed = 6\n",
    "\n",
    "def synthesize_images(model, strength, train_dataset,source_label=1, target_label=2, source_image=None):\n",
    "    num = 1\n",
    "    random.seed(seed)\n",
    "    target_indice = random.sample(train_dataset.label_to_indices[target_label], 1)[0]\n",
    "\n",
    "    if source_image is None:\n",
    "        source_indice = random.sample(train_dataset.label_to_indices[source_label], 1)[0]\n",
    "        source_image = train_dataset.get_image_by_idx(source_indice)\n",
    "    source_metadata = train_dataset.get_metadata_by_idx(source_indice)\n",
    "    target_metadata = train_dataset.get_metadata_by_idx(target_indice)\n",
    "    image, _ = model(image=[source_image], label=target_label, strength=strength, metadata=target_metadata)\n",
    "    return image"
   ]
  },
  {
   "cell_type": "code",
   "execution_count": null,
   "metadata": {},
   "outputs": [],
   "source": [
    "\n",
    "dataset = 'car' # 'cub' 'aircraft' \n",
    "aug = 'dreambooth-lora-mixup' #'dreambooth-lora-augmentation/mixup\" \"real-mixup\" \"real-gen\"\n",
    "finetune_model_key = 'ti_db_latest'\n",
    "guidance_scale = 7\n",
    "prompt = \"a photo of a {name}\"\n",
    "train_dataset = DATASET_NAME_MAPPING[dataset](split=\"train\")\n",
    "lora_path, embed_path = parse_finetuned_ckpt(dataset=dataset, finetune_model_key=finetune_model_key)\n",
    "AUGMENT[aug].pipe=None\n",
    "model = AUGMENT[aug](\n",
    "    embed_path=embed_path,\n",
    "    lora_path=lora_path, \n",
    "    prompt=prompt, \n",
    "    guidance_scale=guidance_scale,\n",
    "    mask=False, \n",
    "    inverted=False,\n",
    "    device=f'cuda:{gpu_id}'\n",
    "    )\n"
   ]
  },
  {
   "cell_type": "code",
   "execution_count": null,
   "metadata": {},
   "outputs": [],
   "source": [
    "source_label = 1\n",
    "target_label = 20\n",
    "strength_list = [0.1, 0.3, 0.5, 0.7, 0.9]\n",
    "\n",
    "image_list = []\n",
    "for strength in strength_list:\n",
    "    image = synthesize_images(model=model, strength=strength, train_dataset=train_dataset, source_label=source_label, target_label=target_label, source_image=None)\n",
    "    image_list.append(image[0])\n",
    "\n",
    "visualize_images(image_list,nrow=5,show=False,save=False,outpath='outputs/debug/aug_samples/diffmix-db-2.png')"
   ]
  },
  {
   "cell_type": "code",
   "execution_count": null,
   "metadata": {},
   "outputs": [],
   "source": [
    "seed = 16\n",
    "random.seed(seed)\n",
    "source_label=9\n",
    "target_label=9\n",
    "source_indices = random.sample(train_dataset.label_to_indices[source_label], 5)\n",
    "target_indice = random.sample(train_dataset.label_to_indices[target_label], 1)[0]\n",
    "\n",
    "source_image = [train_dataset.get_image_by_idx(source_indice).resize((512,512)) for source_indice in source_indices]\n",
    "visualize_images(source_image,nrow=5,show=False,save=False,outpath='outputs/debug/real_images.png')"
   ]
  }
 ],
 "metadata": {
  "kernelspec": {
   "display_name": "ldm",
   "language": "python",
   "name": "python3"
  },
  "language_info": {
   "codemirror_mode": {
    "name": "ipython",
    "version": 3
   },
   "file_extension": ".py",
   "mimetype": "text/x-python",
   "name": "python",
   "nbconvert_exporter": "python",
   "pygments_lexer": "ipython3",
   "version": "3.8.13"
  },
  "orig_nbformat": 4
 },
 "nbformat": 4,
 "nbformat_minor": 2
}
