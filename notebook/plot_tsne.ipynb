{
 "cells": [
  {
   "cell_type": "code",
   "execution_count": 8,
   "metadata": {},
   "outputs": [],
   "source": [
    "from PIL import Image\n",
    "import os\n",
    "import sys\n",
    "import torch\n",
    "import numpy as np\n",
    "from sklearn.manifold import TSNE\n",
    "from transformers import CLIPProcessor, CLIPModel\n",
    "from matplotlib.colors import ListedColormap\n",
    "import numpy as np\n",
    "import matplotlib.pyplot as plt\n",
    "sys.path.append('/data/zhicai/code/Diff-Mix')\n",
    "from utils import DATASET_NAME_MAPPING\n",
    "\n",
    "font = {'family': 'serif',\n",
    "        'weight': 'normal',\n",
    "        'size': 12,\n",
    "        }\n",
    "\n",
    "plt.rc('font', **font)\n",
    "sys.path.append('/data/zhicai/code/Diff-Mix/')\n",
    "os.environ[\"http_proxy\"] = \"http://localhost:8890\"\n",
    "os.environ[\"https_proxy\"] = \"http://localhost:8890\"\n",
    "os.environ[\"WANDB_DISABLED\"] = \"true\"\n",
    "device = \"cuda:3\"\n",
    "\n",
    "\n",
    "\n",
    "\n",
    "def interpolate_color(color1, color2, weight):\n",
    "    color1_rgb = np.array([int(color1[i:i+2], 16)\n",
    "                          for i in (1, 3, 5)])  # Convert hex to RGB\n",
    "    color2_rgb = np.array([int(color2[i:i+2], 16)\n",
    "                          for i in (1, 3, 5)])  # Convert hex to RGB\n",
    "    weight = np.array(weight)  # Convert weight to a NumPy array\n",
    "    interpolated_rgb = (weight * color1_rgb + (1 - weight) * color2_rgb).astype(int)\n",
    "    interpolated_hex = \"#{:02x}{:02x}{:02x}\".format(*interpolated_rgb)\n",
    "    return interpolated_hex\n",
    "\n",
    "color1 = '#ff0000'\n",
    "color2 = '#0000ff'\n",
    "# weight = 0.5  # You can change the weight as needed\n",
    "# result = interpolate_color(color1, color2, weight)\n",
    "# print(result)\n"
   ]
  },
  {
   "cell_type": "markdown",
   "metadata": {},
   "source": [
    "## Classification plot (Old)"
   ]
  },
  {
   "cell_type": "code",
   "execution_count": null,
   "metadata": {},
   "outputs": [],
   "source": [
    "strengths = [0.1,0.2,0.3,0.4,0.5,0.6,0.7,0.8,0.9,1.0]\n",
    "plt.plot(strengths, [0.8201,0.8249,0.8293,0.8317,0.8360,0.8324,0.8296,0.8308,0.8290,0.8250], label = 'Diff-Mix (Tuned)')\n",
    "plt.plot(strengths, [0.8180, 0.8234, 0.8255, 0.8239, 0.8230 , 0.8215, 0.8280, 0.8293, 0.8250,\n",
    "       0.8250,], label = 'Diff-Aug (Tuned)')\n",
    "plt.plot(strengths,[0.8187, 0.8261,0.8213,0.8108,0.8072,0.8039,0.8022,0.800,0.800,0.800],label = 'Diff-Aug (Not tuned)')\n",
    "plt.axhline(y=0.820, color='gray', linestyle='--', label='Baseline')\n",
    "plt.legend()\n",
    "plt.show()"
   ]
  },
  {
   "cell_type": "markdown",
   "metadata": {},
   "source": [
    "## TSNE"
   ]
  },
  {
   "cell_type": "code",
   "execution_count": null,
   "metadata": {},
   "outputs": [],
   "source": [
    "dataset = 'cub'\n",
    "model = CLIPModel.from_pretrained(\"openai/clip-vit-base-patch32\")\n",
    "processor = CLIPProcessor.from_pretrained(\"openai/clip-vit-base-patch32\")\n",
    "train_ds = DATASET_NAME_MAPPING[dataset](split='train',example_per_class=5)\n"
   ]
  },
  {
   "cell_type": "code",
   "execution_count": null,
   "metadata": {},
   "outputs": [],
   "source": [
    "source_label = 12\n",
    "target_label = 99\n",
    "source_indices = train_ds.label_to_indices[source_label]\n",
    "target_indices = train_ds.label_to_indices[target_label]\n",
    "\n",
    "features = []\n",
    "label_weights = []\n",
    "\n",
    "for i, idx in enumerate(source_indices):\n",
    "    img = train_ds.get_image_by_idx(idx)\n",
    "    features.append(model.get_image_features(\n",
    "        processor(images=img, return_tensors=\"pt\").pixel_values))\n",
    "    label_weights.append(1)\n",
    "    if i == 4:\n",
    "        break\n",
    "for i, idx in enumerate(target_indices):\n",
    "    img = train_ds.get_image_by_idx(idx)\n",
    "    features.append(model.get_image_features(\n",
    "        processor(images=img, return_tensors=\"pt\").pixel_values))\n",
    "    label_weights.append(0)\n",
    "    if i == 4:\n",
    "        break\n",
    "all_features = features \n",
    "all_label_weights = label_weights \n",
    "# weighted_colors = [interpolate_color(\n",
    "#     color1, color2, weight) for weight in all_label_weights]\n",
    "# to_tsne_features = torch.cat(all_features).detach().cpu().numpy()\n",
    "# img_features = np.array(to_tsne_features)\n",
    "# tsne = TSNE(n_components=2, perplexity=5, random_state=42)\n",
    "# img_features_2d = tsne.fit_transform(img_features)\n",
    "\n",
    "# plt.scatter(img_features_2d[:, 0], img_features_2d[:, 1], c=weighted_colors,cmap=ListedColormap(weighted_colors))\n",
    "# plt.colorbar(label='Soft Label Intensity')\n",
    "# plt.xlabel('t-SNE Dimension 1')\n",
    "# plt.ylabel('t-SNE Dimension 2')\n",
    "# plt.title('t-SNE Visualization with Interpolated Colors for Soft Labels')\n",
    "# plt.show()"
   ]
  },
  {
   "cell_type": "markdown",
   "metadata": {},
   "source": [
    "### TSNE with cutmix"
   ]
  },
  {
   "cell_type": "code",
   "execution_count": null,
   "metadata": {},
   "outputs": [],
   "source": [
    "import numpy as np\n",
    "import random\n",
    "from cutmix.utils import rand_bbox\n",
    "num_mix = 100\n",
    "beta = 1.\n",
    "prob = 1.0\n",
    "\n",
    "cutmix_features = []\n",
    "cutmix_label_weights = []\n",
    "\n",
    "for _ in range(num_mix):\n",
    "    source_idx = random.choice(source_indices)\n",
    "    target_idx = random.choice(target_indices)\n",
    "    r = np.random.rand(1)\n",
    "    if beta <= 0 or r > prob:\n",
    "        continue\n",
    "    # generate mixed sample\n",
    "    lam = np.random.beta(beta, beta)\n",
    "    img, img2 = train_ds.get_image_by_idx(\n",
    "        source_idx), train_ds.get_image_by_idx(target_idx)\n",
    "    img = processor(images=img, return_tensors=\"pt\").pixel_values\n",
    "    img2 = processor(images=img2, return_tensors=\"pt\").pixel_values\n",
    "\n",
    "    bbx1, bby1, bbx2, bby2 = rand_bbox(img.size(), lam)\n",
    "    img[:, :, bbx1:bbx2, bby1:bby2] = img2[:, :, bbx1:bbx2, bby1:bby2]\n",
    "    lam = 1 - ((bbx2 - bbx1) * (bby2 - bby1) /\n",
    "               (img.size()[-1] * img.size()[-2]))\n",
    "    cutmix_label_weights.append(lam)\n",
    "    cutmix_features.append(model.get_image_features(img))\n",
    "\n",
    "# all_features = features + cutmix_features\n",
    "# all_label_weights = label_weights + cutmix_label_weights\n",
    "\n",
    "# weighted_colors = [interpolate_color(\n",
    "#     color1, color2, weight) for weight in all_label_weights]\n",
    "# to_tsne_features = torch.cat(all_features).detach().cpu().numpy()\n",
    "# img_features = np.array(to_tsne_features)\n",
    "# tsne = TSNE(n_components=2, perplexity=5, random_state=42)\n",
    "# img_features_2d = tsne.fit_transform(img_features)\n",
    "\n",
    "# plt.scatter(img_features_2d[:, 0], img_features_2d[:, 1], c=weighted_colors)\n",
    "# plt.colorbar(label='Soft Label Intensity')\n",
    "# plt.xlabel('t-SNE Dimension 1')\n",
    "# plt.ylabel('t-SNE Dimension 2')\n",
    "# # plt.title('t-SNE Visualization with Interpolated Colors for Soft Labels')\n",
    "# plt.show()"
   ]
  },
  {
   "cell_type": "markdown",
   "metadata": {},
   "source": [
    "# TSNE with Mixup"
   ]
  },
  {
   "cell_type": "code",
   "execution_count": null,
   "metadata": {},
   "outputs": [],
   "source": [
    "import numpy as np\n",
    "import random\n",
    "from cutmix.utils import rand_bbox\n",
    "num_mix = 100\n",
    "beta = 1.\n",
    "prob = 1.0\n",
    "\n",
    "mixup_features = []\n",
    "mixup_label_weights = []\n",
    "\n",
    "for _ in range(num_mix):\n",
    "    source_idx = random.choice(source_indices)\n",
    "    target_idx = random.choice(target_indices)\n",
    "    r = np.random.rand(1)\n",
    "    if beta <= 0 or r > prob:\n",
    "        continue\n",
    "    # generate mixed sample\n",
    "    lam = np.random.beta(beta, beta)\n",
    "    img, img2 = train_ds.get_image_by_idx(\n",
    "        source_idx), train_ds.get_image_by_idx(target_idx)\n",
    "    img = processor(images=img, return_tensors=\"pt\").pixel_values\n",
    "    img2 = processor(images=img2, return_tensors=\"pt\").pixel_values\n",
    "\n",
    "\n",
    "\n",
    "    mixed_x = lam * img + (1 - lam) * img2\n",
    "\n",
    "    mixup_label_weights.append(lam)\n",
    "    mixup_features.append(model.get_image_features(mixed_x))\n",
    "\n",
    "# all_features = features + cutmix_features\n",
    "# all_label_weights = label_weights + cutmix_label_weights\n",
    "\n",
    "# weighted_colors = [interpolate_color(\n",
    "#     color1, color2, weight) for weight in all_label_weights]\n",
    "# to_tsne_features = torch.cat(all_features).detach().cpu().numpy()\n",
    "# img_features = np.array(to_tsne_features)\n",
    "# tsne = TSNE(n_components=2, perplexity=5, random_state=42)\n",
    "# img_features_2d = tsne.fit_transform(img_features)\n",
    "\n",
    "# plt.scatter(img_features_2d[:, 0], img_features_2d[:, 1], c=weighted_colors)\n",
    "# plt.colorbar(label='Soft Label Intensity')\n",
    "# plt.xlabel('t-SNE Dimension 1')\n",
    "# plt.ylabel('t-SNE Dimension 2')\n",
    "# # plt.title('t-SNE Visualization with Interpolated Colors for Soft Labels')\n",
    "# plt.show()"
   ]
  },
  {
   "cell_type": "markdown",
   "metadata": {},
   "source": [
    "### TSNE with diffmix"
   ]
  },
  {
   "cell_type": "code",
   "execution_count": null,
   "metadata": {},
   "outputs": [],
   "source": [
    "from semantic_aug.augmentations.dreabooth_lora import DreamboothLoraMixup\n",
    "import copy\n",
    "import random\n",
    "\n",
    "cub_root_dir = '/data/zhicai/code/Diff-Mix/outputs/aug_samples/cub-db_lora'\n",
    "DreamboothLoraMixup.pipe=None\n",
    "db_model = DreamboothLoraMixup(\n",
    "    model_path = \"runwayml/stable-diffusion-v1-5\",\n",
    "    lora_path= \"/data/zhicai/code/Diff-Mix/outputs/finetune_model/finetune_ti_db_5shot/sd-cub-model-lora-rank10/pytorch_lora_weights.safetensors\",\n",
    "    embed_path= \"/data/zhicai/code/Diff-Mix/outputs/finetune_model/finetune_ti_db_5shot/sd-cub-model-lora-rank10/learned_embeds-steps-last.bin\",\n",
    "    prompt=\"a photo of a {name}\",\n",
    "    guidance_scale=6,\n",
    "    mask=0,\n",
    "    inverted=0,\n",
    "    device=f'cuda:1'\n",
    ")\n",
    "\n",
    "# ti_model = TextualInversionMixup(\n",
    "#     embed_path='/data/zhicai/code/Diff-Mix/outputs/tokens_merged/cub-tokens/cub-0-16.pt',\n",
    "#     prompt=\"a photo of a {name}\",\n",
    "#     guidance_scale=6,\n",
    "#     mask=0,\n",
    "#     inverted=0,\n",
    "#     device=f'cuda:1'\n",
    "# )"
   ]
  },
  {
   "cell_type": "code",
   "execution_count": 9,
   "metadata": {},
   "outputs": [
    {
     "name": "stdout",
     "output_type": "stream",
     "text": [
      "a photo of a <class_99> bird\n",
      "a photo of a <class_99> bird\n",
      "a photo of a <class_99> bird\n",
      "a photo of a <class_99> bird\n",
      "a photo of a <class_99> bird\n",
      "a photo of a <class_99> bird\n",
      "a photo of a <class_99> bird\n",
      "a photo of a <class_99> bird\n",
      "a photo of a <class_99> bird\n",
      "a photo of a <class_99> bird\n",
      "a photo of a <class_99> bird\n",
      "a photo of a <class_99> bird\n",
      "a photo of a <class_99> bird\n",
      "a photo of a <class_99> bird\n",
      "a photo of a <class_99> bird\n",
      "a photo of a <class_99> bird\n",
      "a photo of a <class_99> bird\n",
      "a photo of a <class_99> bird\n",
      "a photo of a <class_99> bird\n",
      "a photo of a <class_99> bird\n",
      "a photo of a <class_99> bird\n",
      "a photo of a <class_99> bird\n",
      "a photo of a <class_99> bird\n",
      "a photo of a <class_99> bird\n",
      "a photo of a <class_99> bird\n",
      "a photo of a <class_99> bird\n",
      "a photo of a <class_99> bird\n",
      "a photo of a <class_99> bird\n",
      "a photo of a <class_99> bird\n",
      "a photo of a <class_99> bird\n",
      "a photo of a <class_99> bird\n",
      "a photo of a <class_99> bird\n",
      "a photo of a <class_99> bird\n",
      "a photo of a <class_99> bird\n",
      "a photo of a <class_99> bird\n",
      "a photo of a <class_99> bird\n",
      "a photo of a <class_99> bird\n",
      "a photo of a <class_99> bird\n",
      "a photo of a <class_99> bird\n",
      "a photo of a <class_99> bird\n",
      "a photo of a <class_99> bird\n",
      "a photo of a <class_99> bird\n",
      "a photo of a <class_99> bird\n",
      "a photo of a <class_99> bird\n",
      "a photo of a <class_99> bird\n",
      "a photo of a <class_99> bird\n",
      "a photo of a <class_99> bird\n",
      "a photo of a <class_99> bird\n",
      "a photo of a <class_99> bird\n",
      "a photo of a <class_99> bird\n",
      "a photo of a <class_99> bird\n",
      "a photo of a <class_99> bird\n",
      "a photo of a <class_99> bird\n",
      "a photo of a <class_99> bird\n",
      "a photo of a <class_99> bird\n",
      "a photo of a <class_99> bird\n",
      "a photo of a <class_99> bird\n",
      "a photo of a <class_99> bird\n",
      "a photo of a <class_99> bird\n",
      "a photo of a <class_99> bird\n",
      "a photo of a <class_99> bird\n",
      "a photo of a <class_99> bird\n",
      "a photo of a <class_99> bird\n",
      "a photo of a <class_99> bird\n",
      "a photo of a <class_99> bird\n",
      "a photo of a <class_99> bird\n",
      "a photo of a <class_99> bird\n",
      "a photo of a <class_99> bird\n",
      "a photo of a <class_99> bird\n",
      "a photo of a <class_99> bird\n",
      "a photo of a <class_99> bird\n",
      "a photo of a <class_99> bird\n",
      "a photo of a <class_99> bird\n",
      "a photo of a <class_99> bird\n",
      "a photo of a <class_99> bird\n",
      "a photo of a <class_99> bird\n",
      "a photo of a <class_99> bird\n",
      "a photo of a <class_99> bird\n",
      "a photo of a <class_99> bird\n",
      "a photo of a <class_99> bird\n",
      "a photo of a <class_99> bird\n",
      "a photo of a <class_99> bird\n",
      "a photo of a <class_99> bird\n",
      "a photo of a <class_99> bird\n",
      "a photo of a <class_99> bird\n",
      "a photo of a <class_99> bird\n",
      "a photo of a <class_99> bird\n",
      "a photo of a <class_99> bird\n",
      "a photo of a <class_99> bird\n",
      "a photo of a <class_99> bird\n",
      "a photo of a <class_99> bird\n",
      "a photo of a <class_99> bird\n",
      "a photo of a <class_99> bird\n",
      "a photo of a <class_99> bird\n",
      "a photo of a <class_99> bird\n",
      "a photo of a <class_99> bird\n",
      "a photo of a <class_99> bird\n",
      "a photo of a <class_99> bird\n",
      "a photo of a <class_99> bird\n",
      "a photo of a <class_99> bird\n"
     ]
    }
   ],
   "source": [
    "# STRENGTH_LIST = [0.1,0.2,0.3,0.4,0.5,0.6,0.7,0.8,0.9,1.0]\n",
    "num_mix = 100\n",
    "diffmix_features = []\n",
    "diffmix_label_weights = []\n",
    "images_list = []\n",
    "source_idx = 0\n",
    "\n",
    "for _ in range(num_mix):\n",
    "    strength = np.random.beta(1, 1)\n",
    "    source_idx = random.choice(source_indices)\n",
    "    target_idx = random.choice(target_indices)\n",
    "    source_metadata = train_ds.get_metadata_by_idx(source_idx)\n",
    "    source_image = train_ds.get_image_by_idx(source_idx)\n",
    "    target_metadata = train_ds.get_metadata_by_idx(target_idx)\n",
    "    # target_name = target_metadata['name'].replace(\" \", \"_\")\n",
    "    # source_name = source_metadata['name'].replace(\" \", \"_\")\n",
    "    try:\n",
    "        image, _ = db_model(image=[source_image], label=target_label,\n",
    "                        strength=strength, metadata=target_metadata)\n",
    "    except:\n",
    "        pass\n",
    "    diffmix_features.append(model.get_image_features(\n",
    "        processor(images=image, return_tensors=\"pt\").pixel_values))\n",
    "    diffmix_label_weights.append(1 - strength)\n",
    "    images_list.append(image)"
   ]
  },
  {
   "cell_type": "code",
   "execution_count": null,
   "metadata": {},
   "outputs": [],
   "source": [
    "source_idx = random.choice(source_indices)\n",
    "source_idx"
   ]
  },
  {
   "cell_type": "code",
   "execution_count": null,
   "metadata": {},
   "outputs": [],
   "source": []
  },
  {
   "cell_type": "code",
   "execution_count": null,
   "metadata": {},
   "outputs": [],
   "source": [
    "all_features = features + diffmix_features\n",
    "all_label_weights = label_weights + diffmix_label_weights"
   ]
  },
  {
   "cell_type": "code",
   "execution_count": 10,
   "metadata": {},
   "outputs": [],
   "source": [
    "all_features = features + cutmix_features\n",
    "all_label_weights = label_weights + cutmix_label_weights"
   ]
  },
  {
   "cell_type": "code",
   "execution_count": null,
   "metadata": {},
   "outputs": [],
   "source": [
    "all_features = features + mixup_features\n",
    "all_label_weights = label_weights + mixup_label_weights"
   ]
  },
  {
   "cell_type": "code",
   "execution_count": 27,
   "metadata": {},
   "outputs": [],
   "source": [
    "all_features = features + diffmix_features + cutmix_features\n",
    "all_label_weights = label_weights + diffmix_label_weights+cutmix_label_weights"
   ]
  },
  {
   "cell_type": "code",
   "execution_count": null,
   "metadata": {},
   "outputs": [],
   "source": [
    "len(all_features)"
   ]
  },
  {
   "cell_type": "code",
   "execution_count": null,
   "metadata": {},
   "outputs": [],
   "source": [
    "from utils import visualize_images\n",
    "images_list = [img.resize((224, 224)) for img in images_list]\n",
    "visualize_images(images_list, nrow=5, save=False, show=False)"
   ]
  },
  {
   "cell_type": "code",
   "execution_count": null,
   "metadata": {},
   "outputs": [],
   "source": [
    "target_image = train_ds.get_image_by_idx(target_indices[1]).resize((224, 224))\n",
    "source_image = train_ds.get_image_by_idx(source_idx).resize((224, 224))\n",
    "visualize_images([source_image, target_image], nrow=2, save=False, show=False)"
   ]
  },
  {
   "cell_type": "code",
   "execution_count": null,
   "metadata": {},
   "outputs": [],
   "source": [
    "len(all_label_weights)"
   ]
  },
  {
   "cell_type": "code",
   "execution_count": null,
   "metadata": {},
   "outputs": [],
   "source": [
    "len(cutmix_features)"
   ]
  },
  {
   "cell_type": "markdown",
   "metadata": {},
   "source": [
    "## Plot TSNE"
   ]
  },
  {
   "cell_type": "code",
   "execution_count": 28,
   "metadata": {},
   "outputs": [],
   "source": [
    "weighted_colors = [interpolate_color(\n",
    "    color1, color2, weight) for weight in all_label_weights]\n",
    "to_tsne_features = torch.cat(all_features).detach().cpu().numpy()\n",
    "img_features = np.array(to_tsne_features)\n",
    "tsne = TSNE(n_components=2, perplexity=5, random_state=43)\n",
    "img_features_2d = tsne.fit_transform(img_features)\n",
    "\n"
   ]
  },
  {
   "cell_type": "code",
   "execution_count": null,
   "metadata": {},
   "outputs": [],
   "source": [
    "len(img_features)"
   ]
  },
  {
   "cell_type": "code",
   "execution_count": 37,
   "metadata": {},
   "outputs": [
    {
     "data": {
      "image/png": "[encoded data removed]",
      "text/plain": [
       "<Figure size 640x480 with 2 Axes>"
      ]
     },
     "metadata": {},
     "output_type": "display_data"
    }
   ],
   "source": [
    "def color_fn(x):\n",
    "    y = [interpolate_color(\n",
    "        color1, color2, weight) for weight in x]\n",
    "    return y\n",
    "font = {'family': 'serif',\n",
    "    'weight': 'normal',\n",
    "    'size': 16,\n",
    "    }\n",
    "raw_feat = img_features_2d[:len(features)]\n",
    "raw_label = all_label_weights[:len(features)]\n",
    "cutmix_feat = img_features_2d[len(features):len(features)+len(cutmix_features)]\n",
    "cutmix_label = all_label_weights[len(features):len(features)+len(cutmix_features)]\n",
    "mixup_feat = img_features_2d[len(features)+len(cutmix_features):len(features)+len(cutmix_features)+len(mixup_features)]\n",
    "mixup_label = all_label_weights[len(features)+len(cutmix_features):len(features)+len(cutmix_features)+len(mixup_features)]\n",
    "diffmix_feat = img_features_2d[len(features)+len(cutmix_features)+len(mixup_features):]\n",
    "diffmix_label = all_label_weights[len(features)+len(cutmix_features)+len(mixup_features):]\n",
    "\n",
    "plt.scatter(raw_feat[:, 0], raw_feat[:, 1], c=raw_label,marker='p',cmap='RdYlGn',label='Raw',s=150)\n",
    "plt.scatter(cutmix_feat[:, 0], cutmix_feat[:, 1], c=cutmix_label,marker='^',cmap='RdYlGn',label='DiffMix',s=20)\n",
    "plt.colorbar(label='$s$')\n",
    "plt.xlabel('Dim-1',fontdict=font)\n",
    "plt.ylabel('Dim-2',fontdict=font)\n",
    "plt.legend(loc='upper right')\n",
    "# plt.axis('off')\n",
    "plt.tight_layout()\n",
    "plt.savefig('../figures/tsne_cub_diffmix.pdf',bbox_inches='tight')"
   ]
  },
  {
   "cell_type": "code",
   "execution_count": 34,
   "metadata": {},
   "outputs": [
    {
     "data": {
      "image/png": "[encoded data removed]",
      "text/plain": [
       "<Figure size 640x480 with 2 Axes>"
      ]
     },
     "metadata": {},
     "output_type": "display_data"
    }
   ],
   "source": [
    "def color_fn(x):\n",
    "    y = [interpolate_color(\n",
    "        color1, color2, weight) for weight in x]\n",
    "    return y\n",
    "font = {'family': 'serif',\n",
    "    'weight': 'normal',\n",
    "    'size': 16,\n",
    "    }\n",
    "raw_feat = img_features_2d[:len(features)]\n",
    "raw_label = all_label_weights[:len(features)]\n",
    "cutmix_feat = img_features_2d[len(features):len(features)+len(cutmix_features)]\n",
    "cutmix_label = all_label_weights[len(features):len(features)+len(cutmix_features)]\n",
    "mixup_feat = img_features_2d[len(features)+len(cutmix_features):len(features)+len(cutmix_features)+len(mixup_features)]\n",
    "mixup_label = all_label_weights[len(features)+len(cutmix_features):len(features)+len(cutmix_features)+len(mixup_features)]\n",
    "diffmix_feat = img_features_2d[len(features)+len(cutmix_features)+len(mixup_features):]\n",
    "diffmix_label = all_label_weights[len(features)+len(cutmix_features)+len(mixup_features):]\n",
    "\n",
    "plt.scatter(raw_feat[:, 0], raw_feat[:, 1], c=raw_label,marker='p',cmap='RdYlGn',label='Raw',s=150)\n",
    "plt.scatter(mixup_feat[:, 0], mixup_feat[:, 1], c=mixup_label,marker='^',cmap='RdYlGn',label='CutMix',s=20)\n",
    "plt.colorbar(label='$\\lambda$')\n",
    "plt.xlabel('Dim-1',fontdict=font)\n",
    "plt.ylabel('Dim-2',fontdict=font)\n",
    "# plt.axis('off')\n",
    "plt.legend(loc='upper right')\n",
    "plt.tight_layout()\n",
    "plt.savefig('../figures/tsne_cub_cutmix.pdf',bbox_inches='tight')"
   ]
  },
  {
   "cell_type": "code",
   "execution_count": null,
   "metadata": {},
   "outputs": [],
   "source": []
  },
  {
   "cell_type": "code",
   "execution_count": null,
   "metadata": {},
   "outputs": [],
   "source": [
    "plt.scatter(raw_feat[:, 0], raw_feat[:, 1], c=raw_label,marker='p',cmap='viridis',label='Raw',s=100)\n",
    "plt.scatter(mixup_feat[:, 0], mixup_feat[:, 1], c=mixup_label,marker='^',cmap='viridis',s =20,label='CutMix')\n",
    "plt.colorbar(label='$\\lambda$')\n",
    "# plt.xlabel('Dim-1',fontdict=font)\n",
    "# plt.ylabel('Dim-2',fontdict=font)\n",
    "plt.legend(loc='upper right')\n",
    "plt.axis('off')\n",
    "plt.show()\n",
    "plt.tight_layout()\n",
    "plt.savefig('../figures/tsne_cub_cutmix.pdf',bbox_inches='tight')"
   ]
  },
  {
   "cell_type": "code",
   "execution_count": null,
   "metadata": {},
   "outputs": [],
   "source": [
    "plt.scatter(raw_feat[:, 0], raw_feat[:, 1], c=raw_label,marker='p',cmap='viridis',label='Raw',s=100)\n",
    "plt.scatter(diffmix_feat[:, 0], diffmix_feat[:, 1], c=diffmix_label,marker='^',cmap='viridis',s=20,label='Mixup')\n",
    "plt.colorbar(label='$\\lambda$')\n",
    "plt.xlabel('Dim-1',fontdict=font)\n",
    "plt.ylabel('Dim-2',fontdict=font)\n",
    "plt.legend(loc='upper right')\n",
    "plt.tight_layout()\n",
    "plt.savefig('../figures/tsne_cub_mixup.pdf',bbox_inches='tight')"
   ]
  },
  {
   "cell_type": "code",
   "execution_count": null,
   "metadata": {},
   "outputs": [],
   "source": [
    "import torch\n",
    "import numpy as np\n",
    "from sklearn.manifold import TSNE\n",
    "import matplotlib.pyplot as plt\n",
    "from matplotlib.colors import LinearSegmentedColormap\n",
    "\n",
    "to_tsne_features = torch.cat(features).detach().cpu().numpy()\n",
    "weighted_colors = [interpolate_color(\n",
    "    color1, color2, weight) for weight in label_weights]\n",
    "img_features = np.array(to_tsne_features)\n",
    "tsne = TSNE(n_components=2, perplexity=5, random_state=42)\n",
    "img_features_2d = tsne.fit_transform(img_features)\n",
    "\n",
    "# Create a colormap for interpolated colors\n",
    "# cmap = LinearSegmentedColormap.from_list('Custom Colormap', colors, N=len(set(labels)))\n",
    "\n",
    "# Plot the t-SNE visualization with interpolated colors based on soft labels\n",
    "plt.scatter(img_features_2d[:, 0], img_features_2d[:, 1], c=weighted_colors)\n",
    "plt.colorbar(label='Soft Label Intensity')\n",
    "plt.xlabel('t-SNE Dimension 1')\n",
    "plt.ylabel('t-SNE Dimension 2')\n",
    "plt.title('t-SNE Visualization with Interpolated Colors for Soft Labels')\n",
    "plt.show()"
   ]
  },
  {
   "cell_type": "markdown",
   "metadata": {},
   "source": [
    "## DATASET basic satistics"
   ]
  },
  {
   "cell_type": "code",
   "execution_count": null,
   "metadata": {},
   "outputs": [],
   "source": [
    "from semantic_aug.datasets.caltech101 import CalTech101Dataset\n",
    "import matplotlib.pyplot as plt\n",
    "import numpy as np\n",
    "caltech101_data_train = CalTech101Dataset(split='train', examples_per_class=-1)\n",
    "caltech101_data_val = CalTech101Dataset(split='val', examples_per_class=-1)\n",
    "cls_len_train = [len(images)\n",
    "                 for images in caltech101_data_train.class_to_images]\n",
    "cls_len_val = [len(images) for images in caltech101_data_val.class_to_images]\n",
    "# x轴标签，类别名称\n",
    "class_names = [f\"Class {i}\" for i in range(len(cls_len_train))]\n",
    "plt.figure(figsize=(10, 6))\n",
    "plt.bar(range(len(cls_len_train)), cls_len_train,\n",
    "        width=0.4, align='center', label='Train')\n",
    "plt.bar([i + 0.4 for i in range(len(cls_len_val))], cls_len_val,\n",
    "        width=0.4, align='center', label='Validation')\n",
    "plt.legend()\n",
    "\n",
    "plt.title('Distribution of Images per Class in Caltech101 Dataset')\n",
    "plt.xlabel('Class')\n",
    "plt.ylabel('Number of Images')\n",
    "# 显示图像\n",
    "plt.show()"
   ]
  },
  {
   "cell_type": "markdown",
   "metadata": {},
   "source": [
    "## Statistics of classification results"
   ]
  },
  {
   "cell_type": "code",
   "execution_count": null,
   "metadata": {},
   "outputs": [],
   "source": []
  },
  {
   "cell_type": "markdown",
   "metadata": {},
   "source": [
    "## RealMixup Vs RealAugmentation"
   ]
  },
  {
   "cell_type": "code",
   "execution_count": null,
   "metadata": {},
   "outputs": [],
   "source": [
    "\n",
    "target_dir='outputs/result/main_result_e150'\n",
    "result_sorted = parse_result(target_dir)\n",
    "\n",
    "df = result_sorted[(result_sorted['dataset']=='caltech')&(result_sorted['soft power']==0.8)]\n",
    "\n",
    "baseline = df[(df['strategy']=='baseline')]['acc'].values\n",
    "realgen = df[(df['strategy']=='realgen')]['acc'].values\n",
    "realmixup = df[(df['strategy']=='realmixup')]['acc'].values\n",
    "realaug = df[(df['strategy']=='realaug')]['acc'].values\n",
    "mixup = df[(df['strategy']=='mixup')]['acc'].values\n",
    "aug = df[(df['strategy']=='aug')]['acc'].values\n",
    "\n",
    "# 提取折线图数据和方差数据\n",
    "realmixup_mean, realmixup_std = realmixup[:, 0], realmixup[:, 1]\n",
    "realaug_mean, realaug_std = realaug[:, 0], realaug[:, 1]\n",
    "mixup_mean, mixup_std = mixup[:, 0], mixup[:, 1]\n",
    "aug_mean, aug_std = aug[:, 0], aug[:, 1]\n",
    "aug_mean = np.concatenate((aug_mean, [86.28]))\n",
    "aug_std = np.concatenate((aug_std, [0.0001]))\n",
    "x = [0.1, 0.3, 0.5, 0.7, 0.9, 1.0]\n",
    "plt.figure()\n",
    "\n",
    "# 绘制带有方差的误差线折线图\n",
    "plt.errorbar(x, realmixup_mean, yerr=realmixup_std, linestyle='-', marker='*', label='Diff-Mix (Not tuned)')\n",
    "plt.errorbar(x, mixup_mean, yerr=mixup_std, linestyle='-', marker='o', label='Diff-Mix ')\n",
    "plt.errorbar(x, realaug_mean, yerr=realaug_std, linestyle='--', marker='*', label='Diff-Aug (Not tuned)')\n",
    "plt.errorbar(x, aug_mean, yerr=aug_std, linestyle='--', marker='o', label='Diff-Aug')\n",
    "plt.axhline(y=baseline[:,0], color='gray', linestyle='--', label='Baseline')\n",
    "\n",
    "\n",
    "# 添加标签和图例\n",
    "plt.xlabel('Augmentation Strength')\n",
    "plt.ylabel('Acc.(%)')\n",
    "plt.legend(loc='upper left')\n",
    "\n",
    "plt.show()"
   ]
  },
  {
   "cell_type": "code",
   "execution_count": null,
   "metadata": {},
   "outputs": [],
   "source": [
    "[81.567,81.70,81.58,81.60,81.97,81.76]\n",
    "[81.29,80.79,81.73,82.37,82.28,82.52]"
   ]
  },
  {
   "cell_type": "code",
   "execution_count": null,
   "metadata": {},
   "outputs": [],
   "source": []
  },
  {
   "cell_type": "markdown",
   "metadata": {},
   "source": []
  },
  {
   "cell_type": "code",
   "execution_count": null,
   "metadata": {},
   "outputs": [],
   "source": []
  },
  {
   "cell_type": "markdown",
   "metadata": {},
   "source": [
    "## Main result"
   ]
  },
  {
   "cell_type": "code",
   "execution_count": null,
   "metadata": {},
   "outputs": [],
   "source": [
    "import sys\n",
    "sys.path.append('/data/zhicai/code/Diff-Mix/')\n",
    "from utils import parse_result\n",
    "target_dir = '/data/zhicai/code/Diff-Mix/outputs/result/main_ab_sythetic_probability'\n",
    "result = parse_result(target_dir, extra_column=['syn_p'])\n",
    "result"
   ]
  },
  {
   "cell_type": "code",
   "execution_count": null,
   "metadata": {},
   "outputs": [],
   "source": [
    "target_dir = '/data/zhicai/code/Diff-Mix/outputs/result/main_ab_synthetic_size'\n",
    "parse_result(target_dir, extra_column=['syn_type'])"
   ]
  },
  {
   "cell_type": "code",
   "execution_count": null,
   "metadata": {},
   "outputs": [],
   "source": [
    "target_dir = '/data/zhicai/code/Diff-Mix/outputs/result/main_ab_power'\n",
    "parse_result(target_dir, extra_column=['syn_type'])"
   ]
  },
  {
   "cell_type": "code",
   "execution_count": null,
   "metadata": {},
   "outputs": [],
   "source": [
    "target_dir = '/data/zhicai/code/Diff-Mix/outputs/result/main_ab_finetune_strategy'\n",
    "parse_result(target_dir, extra_column=['syn_type'])"
   ]
  },
  {
   "cell_type": "code",
   "execution_count": null,
   "metadata": {},
   "outputs": [],
   "source": [
    "target_dir = '/data/zhicai/code/Diff-Mix/outputs/result/main_ab_finetune_steps'\n",
    "parse_result(target_dir, extra_column=['syn_type'])"
   ]
  },
  {
   "cell_type": "code",
   "execution_count": null,
   "metadata": {},
   "outputs": [],
   "source": [
    "target_dir = '/data/zhicai/code/Diff-Mix/outputs/result/main_ab_cutmix_mixup'\n",
    "parse_result(target_dir, extra_column=['use_cutmix','use_mixup','mixup_probability'])"
   ]
  },
  {
   "cell_type": "markdown",
   "metadata": {},
   "source": [
    "## Annotation strategy, soft power"
   ]
  },
  {
   "cell_type": "code",
   "execution_count": null,
   "metadata": {},
   "outputs": [],
   "source": []
  },
  {
   "cell_type": "code",
   "execution_count": null,
   "metadata": {},
   "outputs": [],
   "source": [
    "import torch\n",
    "pt = torch.load('/data/zhicai/code/Diff-Mix/cub_train_features.pt')"
   ]
  },
  {
   "cell_type": "code",
   "execution_count": null,
   "metadata": {},
   "outputs": [],
   "source": [
    "import re\n",
    "import os\n",
    "from collections import defaultdict\n",
    "from tqdm import tqdm\n",
    "from PIL import Image\n",
    "import pandas as pd\n",
    "import shutil\n",
    "\n",
    "output_path = '/data/zhicai/code/Diff-Mix/outputs/aug_samples/cub/dreambooth-lora-mixup-Multi7-db_ti35000-Strength0.5'\n",
    "rootdir = os.path.join(output_path,'data')\n",
    "# 正则表达式模式来匹配路径中的各个部分\n",
    "pattern_level_1 = r\"(.+)\"\n",
    "pattern_level_2 = r\"(.+)-(\\d+)-(.+).png\"\n",
    "\n",
    "# Generate meta.csv for indexing images\n",
    "data_dict = defaultdict(list)\n",
    "for dir in os.listdir(rootdir):\n",
    "    if not os.path.isdir(os.path.join(rootdir, dir)):\n",
    "        continue\n",
    "    match_1 = re.match(pattern_level_1, dir)\n",
    "    first_dir = match_1.group(1).replace(\"_\", \" \") \n",
    "    for file in os.listdir(os.path.join(rootdir, dir)):\n",
    "        match_2 = re.match(pattern_level_2, file)\n",
    "        second_dir = match_2.group(1).replace(\"_\", \" \")\n",
    "        num = int(match_2.group(2))\n",
    "        floating_num = float(match_2.group(3))\n",
    "        if floating_num != 0.5:\n",
    "            # delete files with strength not 0.5\n",
    "            os.remove(os.path.join(rootdir, dir, file))\n",
    "            continue\n",
    "        data_dict['First Directory'].append(first_dir)\n",
    "        data_dict['Second Directory'].append(second_dir)\n",
    "        data_dict['Number'].append(num)\n",
    "        data_dict['Strength'].append(floating_num)\n",
    "        data_dict['Path'].append(os.path.join(dir, file))\n",
    "\n",
    "df = pd.DataFrame(data_dict)\n",
    "\n",
    "# Validate generated images\n",
    "valid_rows = []\n",
    "for index, row in tqdm(df.iterrows(), total=len(df)):\n",
    "    image_path = os.path.join(output_path,'data',row['Path'])\n",
    "    try:\n",
    "        # 尝试加载图片\n",
    "        img = Image.open(image_path)\n",
    "        img.close()  \n",
    "        valid_rows.append(row)  # 如果成功加载图片，则保留该行\n",
    "    except Exception as e:\n",
    "        # 如果加载图片时出错，删除该图片文件\n",
    "        os.remove(image_path)\n",
    "        print(f\"Deleted {image_path} due to error: {str(e)}\")\n",
    "\n",
    "valid_df = pd.DataFrame(valid_rows)\n",
    "csv_path = os.path.join(output_path, 'meta.csv')\n",
    "valid_df.to_csv(csv_path, index=False)\n",
    "\n",
    "print(\"DataFrame:\")\n",
    "print(df)"
   ]
  },
  {
   "cell_type": "code",
   "execution_count": null,
   "metadata": {},
   "outputs": [],
   "source": [
    "len(X)"
   ]
  },
  {
   "cell_type": "code",
   "execution_count": null,
   "metadata": {},
   "outputs": [],
   "source": []
  }
 ],
 "metadata": {
  "kernelspec": {
   "display_name": "ldm",
   "language": "python",
   "name": "python3"
  },
  "language_info": {
   "codemirror_mode": {
    "name": "ipython",
    "version": 3
   },
   "file_extension": ".py",
   "mimetype": "text/x-python",
   "name": "python",
   "nbconvert_exporter": "python",
   "pygments_lexer": "ipython3",
   "version": "3.8.13"
  },
  "orig_nbformat": 4
 },
 "nbformat": 4,
 "nbformat_minor": 2
}
