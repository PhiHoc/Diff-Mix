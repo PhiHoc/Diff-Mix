{
 "cells": [
  {
   "cell_type": "code",
   "execution_count": null,
   "metadata": {},
   "outputs": [],
   "source": [
    "import sys\n",
    "import os\n",
    "os.environ[\"http_proxy\"] = \"http://localhost:8890\"\n",
    "os.environ[\"https_proxy\"] = \"http://localhost:8890\"\n",
    "print(os.environ['https_proxy'])\n",
    "sys.path.append('/data/zhicai/code/da-fusion/')"
   ]
  },
  {
   "cell_type": "markdown",
   "metadata": {},
   "source": [
    "## Transformers"
   ]
  },
  {
   "cell_type": "code",
   "execution_count": null,
   "metadata": {},
   "outputs": [],
   "source": [
    "from semantic_aug.datasets.cub import CUBBirdHugDataset\n",
    "ds_train = CUBBirdHugDataset(split='train', crop_size=254, image_size=224)\n",
    "input_image = ds_train[0]['pixel_values'].unsqueeze(0)\n",
    "outputs = clip_classifier(input_image, return_dict=True)\n"
   ]
  },
  {
   "cell_type": "code",
   "execution_count": null,
   "metadata": {},
   "outputs": [],
   "source": [
    "outputs"
   ]
  },
  {
   "cell_type": "code",
   "execution_count": null,
   "metadata": {},
   "outputs": [],
   "source": [
    "import gdown\n",
    "from transformers import AutoImageProcessor, ResNetForImageClassification\n",
    "import torch\n",
    "from datasets import loaddataset\n",
    "\n",
    "dataset = loaddataset(\"huggingface/cats-image\")\n",
    "image = dataset[\"test\"][\"image\"][0]\n",
    "\n",
    "processor = AutoImageProcessor.from_pretrained(\"microsoft/resnet-50\")\n",
    "model = ResNetForImageClassification.from_pretrained(\"microsoft/resnet-50\")\n",
    "\n",
    "inputs = processor(image, return_tensors=\"pt\")\n",
    "\n",
    "with torch.no_grad():\n",
    "    logits = model(**inputs).logits\n",
    "\n",
    "# model predicts one of the 1000 ImageNet classes\n",
    "predicted_label = logits.argmax(-1).item()\n",
    "print(model.config.id2label[predicted_label])\n",
    "\n",
    "url = 'https://drive.google.com/uc?id=1skwblH1_okBwxWxmRsp9_qi15hyPpxg8'\n",
    "gdown.download(url, 'VLCS.tar.gz', quiet=False)"
   ]
  },
  {
   "cell_type": "code",
   "execution_count": null,
   "metadata": {},
   "outputs": [],
   "source": [
    "import copy\n",
    "from diffusers import StableDiffusionImg2ImgPipeline, StableDiffusionPipeline\n",
    "from diffusers import UNet2DConditionModel\n",
    "from diffusers.models.attention_processor import LoRAAttnProcessor\n",
    "import torch\n",
    "\n",
    "unet_lora = torch.load(\n",
    "    '../outputs/finetune_model/finetune_db/sd-cub-model-lora/checkpoint-9000/pytorch_model.bin')\n",
    "\n",
    "pipe = StableDiffusionPipeline.from_pretrained(\n",
    "    'CompVis/stable-diffusion-v1-4', torch_dtype=torch.float16).to('cuda:0')\n",
    "unet = pipe.unet\n",
    "lora_attn_procs = {}\n",
    "for name in unet.attn_processors.keys():\n",
    "    cross_attention_dim = None if name.endswith(\n",
    "        \"attn1.processor\") else unet.config.cross_attention_dim\n",
    "    if name.startswith(\"mid_block\"):\n",
    "        hidden_size = unet.config.block_out_channels[-1]\n",
    "    elif name.startswith(\"up_blocks\"):\n",
    "        block_id = int(name[len(\"up_blocks.\")])\n",
    "        hidden_size = list(reversed(unet.config.block_out_channels))[block_id]\n",
    "    elif name.startswith(\"down_blocks\"):\n",
    "        block_id = int(name[len(\"down_blocks.\")])\n",
    "        hidden_size = unet.config.block_out_channels[block_id]\n",
    "\n",
    "    lora_attn_procs[name] = LoRAAttnProcessor(\n",
    "        hidden_size=hidden_size,\n",
    "        cross_attention_dim=cross_attention_dim,\n",
    "        rank=10,\n",
    "    )\n",
    "unet.set_attn_processor(lora_attn_procs)\n",
    "new_state_dict = copy.deepcopy(pipe.unet.state_dict())\n",
    "new_state_dict.update(unet_lora)\n",
    "pipe.unet.load_state_dict(new_state_dict)"
   ]
  },
  {
   "cell_type": "code",
   "execution_count": null,
   "metadata": {},
   "outputs": [],
   "source": [
    "pipe.load_lora_weights(\n",
    "    '../outputs/finetune_model/finetune_db/sd-cub-model-lora/pytorch_lora_weights.safetensors')"
   ]
  },
  {
   "cell_type": "markdown",
   "metadata": {},
   "source": [
    "## Dataset"
   ]
  },
  {
   "cell_type": "code",
   "execution_count": null,
   "metadata": {},
   "outputs": [],
   "source": []
  },
  {
   "cell_type": "code",
   "execution_count": null,
   "metadata": {},
   "outputs": [],
   "source": [
    "from datasets import ClassLabel\n",
    "filtered_train = train_ds.filter(lambda x: x['label'] in small_set)\n",
    "filtered_test = test_ds.filter(lambda x: x['label'] in small_set)\n",
    "original_int2str = filtered_train.features['label'].int2str\n",
    "original_str2int = filtered_train.features['label'].str2int\n",
    "new_label_feature = ClassLabel(num_classes=len(small_set), names=[\n",
    "                               original_int2str(i) for i in small_set])\n",
    "new_str2int = new_label_feature.str2int\n",
    "filtered_train = filtered_train.map(\n",
    "    lambda x: {'label': new_str2int(original_int2str(x['label']))})\n",
    "filtered_test = filtered_test.map(\n",
    "    lambda x: {'label': new_str2int(original_int2str(x['label']))})\n",
    "filtered_train = filtered_train.cast_column('label', new_label_feature)\n",
    "filtered_test = filtered_test.cast_column('label', new_label_feature)\n",
    "filtered_train.save_to_disk(\n",
    "    '/data/zhicai/cache/huggingface/local/CUB_small_train')\n",
    "filtered_test.save_to_disk(\n",
    "    '/data/zhicai/cache/huggingface/local/CUB_small_test')"
   ]
  },
  {
   "cell_type": "code",
   "execution_count": null,
   "metadata": {},
   "outputs": [],
   "source": [
    "import os\n",
    "\n",
    "out = '/data/zhicai/code/da-fusion/outputs/aug_samples/cub/dreambooth-lora-augmentation-Multi5-Strength0.02'\n",
    "rootdir = os.path.join(out, 'data')\n",
    "# 正则表达式模式来匹配路径中的各个部分\n",
    "pattern_level_1 = r\"(.+)\"\n",
    "pattern_level_2 = r\"(.+)-(\\d+)-(\\d+\\.\\d+).png\"\n",
    "\n",
    "data_dict = defaultdict(list)\n",
    "for dir in os.listdir(rootdir):\n",
    "    if not os.path.isdir(os.path.join(rootdir, dir)):\n",
    "        continue\n",
    "    match_1 = re.match(pattern_level_1, dir)\n",
    "    first_dir = match_1.group(1).replace(\"_\", \" \")\n",
    "    for file in os.listdir(os.path.join(rootdir, dir)):\n",
    "        match_2 = re.match(pattern_level_2, file)\n",
    "        second_dir = match_2.group(1).replace(\"_\", \" \")\n",
    "        num = int(match_2.group(2))\n",
    "        floating_num = float(match_2.group(3))\n",
    "        data_dict['First Directory'].append(first_dir)\n",
    "        data_dict['Second Directory'].append(second_dir)\n",
    "        data_dict['Number'].append(num)\n",
    "        data_dict['Strength'].append(floating_num)\n",
    "        data_dict['Path'].append(os.path.join(dir, file))\n",
    "\n",
    "df = pd.DataFrame(data_dict)\n",
    "# save df as csv\n",
    "csv_path = os.path.join(out, 'meta.csv')\n",
    "df.to_csv(csv_path, index=False)"
   ]
  },
  {
   "cell_type": "markdown",
   "metadata": {},
   "source": [
    "## Evaluation"
   ]
  },
  {
   "cell_type": "code",
   "execution_count": null,
   "metadata": {},
   "outputs": [],
   "source": [
    "import torch\n",
    "from torch.utils.data import DataLoader\n",
    "\n",
    "# forward pass\n",
    "device = 'cuda:0'\n",
    "gt_labels = []\n",
    "pred_logits = []\n",
    "batch_size = 16  # 设置批大小\n",
    "data_loader = DataLoader(ds_test, batch_size=batch_size, shuffle=False)\n",
    "model = model.to(device)\n",
    "with torch.no_grad():\n",
    "    for batch in data_loader:\n",
    "        pixel_values = batch['pixel_values'].to(device)\n",
    "        gt_label = batch['label']\n",
    "        outputs = model(pixel_values=pixel_values)\n",
    "        logits = outputs.logits\n",
    "        gt_labels.append(gt_label)\n",
    "        pred_logits.append(logits)\n",
    "        \n",
    "# gt_labels = torch.cat(gt_labels)\n",
    "import numpy as np\n",
    "import matplotlib.pyplot as plt\n",
    "from base.utils import calculate_accuracy, calculate_confusion_matrix\n",
    "pred_logits = torch.cat(pred_logits).detach().cpu()\n",
    "gt_labels = torch.cat(gt_labels)\n",
    "acc = calculate_accuracy(pred_logits, gt_labels)\n",
    "print('accuracy:', acc)\n",
    "\n",
    "conf_matrix = calculate_confusion_matrix(pred_logits, gt_labels)\n",
    "plt.figure(figsize=(10, 10))\n",
    "plt.imshow(conf_matrix[:100, :100])\n",
    "# plt.savefig('conf_matrix_cub_baseline.jpg')\n",
    "\n",
    "np.save('confusion-matrix.npy', conf_matrix)"
   ]
  },
  {
   "cell_type": "code",
   "execution_count": null,
   "metadata": {},
   "outputs": [],
   "source": [
    "num_classes = 200\n",
    "options = list(zip(range(num_classes), range(num_classes)))\n",
    "options\n",
    "\n",
    "options = []\n",
    "topk = 5\n",
    "topk_indices = np.argsort(-conf_matrix, axis=1)[:, :(topk+1)]\n",
    "# for i in range(len(topk_indices)):\n",
    "#     indices = topk_indices[i]\n",
    "#     source_label = indices[0]\n",
    "#     target_labels = indices[1:]\n",
    "#     options.extend([(source_label, target_label) for target_label in target_labels])"
   ]
  },
  {
   "cell_type": "markdown",
   "metadata": {},
   "source": [
    "### Softlabel annotated by baseline classifier"
   ]
  },
  {
   "cell_type": "code",
   "execution_count": null,
   "metadata": {},
   "outputs": [],
   "source": [
    "import matplotlib.pyplot as plt\n",
    "from PIL import Image\n",
    "root_path = '/data/zhicai/code/da-fusion/outputs/aug_samples/tiny-bird-db_lora/data'\n",
    "meta_df = pd.read_csv(\n",
    "    '/data/zhicai/code/da-fusion/outputs/aug_samples/tiny-bird-db_lora/meta.csv')\n",
    "\n",
    "meta_df = meta_df[(meta_df['First Directory'] == 'American Goldfinch') & (\n",
    "    meta_df['Second Directory'] == 'Shiny Cowbird') & (meta_df['Number'] == 0)]\n",
    "\n",
    "meta_df = meta_df.sort_values(by='Strength')\n",
    "img_paths = meta_df['Path'].values\n",
    "strengths = meta_df['Strength'].values\n",
    "targets = meta_df['Second Directory'].values\n",
    "predicts = []\n",
    "for path in img_paths:\n",
    "    img = Image.open(os.path.join(root_path, path)).convert('RGB')\n",
    "    img = val_transforms(img)\n",
    "    pixel_values = img.unsqueeze(0)\n",
    "    outputs = model(pixel_values=pixel_values)\n",
    "    predicts.append(outputs.logits)\n",
    "    # break\n",
    "len(predicts)\n",
    "source_label = ds_test.class2label['American Goldfinch']\n",
    "target_label = ds_test.class2label['Shiny Cowbird']\n",
    "s_logits = []\n",
    "t_logits = []\n",
    "for logits in predicts:\n",
    "    s_logits.append(logits[:, source_label].item())\n",
    "    t_logits.append(logits[:, target_label].item())\n",
    "\n",
    "\n",
    "plt.plot(strengths, s_logits, label='American Goldfinch')\n",
    "plt.plot(strengths, t_logits, label='Shiny Cowbird')\n",
    "plt.legend()\n",
    "plt.show()"
   ]
  },
  {
   "cell_type": "code",
   "execution_count": null,
   "metadata": {},
   "outputs": [],
   "source": [
    "import torch\n",
    "from PIL import Image\n",
    "root_path = '/data/zhicai/code/da-fusion/outputs/aug_samples/tiny-bird-db_lora/data'\n",
    "meta_df = pd.read_csv(\n",
    "    '/data/zhicai/code/da-fusion/outputs/aug_samples/tiny-bird-db_lora/meta.csv')\n",
    "\n",
    "meta_df = meta_df[(meta_df['First Directory'] == 'American Goldfinch') & (\n",
    "    meta_df['Second Directory'] == 'Shiny Cowbird') & (meta_df['Number'] == 0)]\n",
    "\n",
    "meta_df = meta_df.sort_values(by='Strength')\n",
    "img_paths = meta_df['Path'].values\n",
    "strengths = meta_df['Strength'].values\n",
    "targets = meta_df['Second Directory'].values\n",
    "predicts = []\n",
    "for path in img_paths:\n",
    "    img = Image.open(os.path.join(root_path, path)).convert('RGB')\n",
    "    img = val_transforms(img)\n",
    "    pixel_values = img.unsqueeze(0)\n",
    "    outputs = model(pixel_values=pixel_values)\n",
    "    predicts.append(outputs.logits)\n",
    "\n",
    "print(' Source: American Goldfinch\\n', 'Target:',\n",
    "      targets[idx], '\\n', 'Strength:', strengths[idx], '\\n')\n",
    "topk_indices = torch.topk(logits, k=5, dim=-1)[-1].squeeze()\n",
    "for indice in topk_indices:\n",
    "    print(ds_test.label2class[indice.item()], logits[:, indice].item())"
   ]
  },
  {
   "cell_type": "markdown",
   "metadata": {},
   "source": [
    "## Others"
   ]
  },
  {
   "cell_type": "markdown",
   "metadata": {},
   "source": [
    "### Beta distribution"
   ]
  },
  {
   "cell_type": "code",
   "execution_count": 1,
   "metadata": {},
   "outputs": [
    {
     "data": {
      "image/png": "[encoded data removed]",
      "text/plain": [
       "<Figure size 800x600 with 1 Axes>"
      ]
     },
     "metadata": {},
     "output_type": "display_data"
    }
   ],
   "source": [
    "import numpy as np\n",
    "import matplotlib.pyplot as plt\n",
    "from scipy.stats import beta\n",
    "\n",
    "# 超参数 (alpha 和 beta)\n",
    "np.random.seed(0)\n",
    "alpha = 7\n",
    "beta_param = 7\n",
    "# np.random.beta(alpha,beta_param)\n",
    "\n",
    "# 生成 Beta 分布的样本点\n",
    "x = np.linspace(0, 1, 1000)\n",
    "pdf = beta.pdf(x, alpha, beta_param)\n",
    "\n",
    "# 绘制 Beta 分布\n",
    "plt.figure(figsize=(8, 6))\n",
    "plt.plot(x, pdf, 'r-', lw=2,\n",
    "         label='Beta PDF (alpha={}, beta={})'.format(alpha, beta_param))\n",
    "plt.title('Beta Distribution')\n",
    "plt.xlabel('X')\n",
    "plt.ylabel('Probability Density')\n",
    "plt.legend()\n",
    "plt.grid(True)\n",
    "plt.show()"
   ]
  },
  {
   "cell_type": "code",
   "execution_count": null,
   "metadata": {},
   "outputs": [],
   "source": [
    "df2 = df.where((df['Strength'] >= 0.5) & (df['Strength'] <= 0.9)).dropna()\n",
    "len(df2)"
   ]
  },
  {
   "cell_type": "code",
   "execution_count": null,
   "metadata": {},
   "outputs": [],
   "source": [
    "from huggingface_hub import try_to_load_from_cache, _CACHED_NO_EXIST\n",
    "from transformers import AutoConfig, AutoModelForImageClassification\n",
    "\n",
    "filepath = try_to_load_from_cache('microsoft/resnet-50','config.json')\n",
    "if isinstance(filepath, str):\n",
    "    # file exists and is cached\n",
    "    print(filepath)\n",
    "elif filepath is _CACHED_NO_EXIST:\n",
    "    print(\"Not cached\")\n",
    "else:\n",
    "    print(\"????\")\n"
   ]
  },
  {
   "cell_type": "code",
   "execution_count": null,
   "metadata": {},
   "outputs": [],
   "source": []
  }
 ],
 "metadata": {
  "kernelspec": {
   "display_name": "ldm",
   "language": "python",
   "name": "python3"
  },
  "language_info": {
   "codemirror_mode": {
    "name": "ipython",
    "version": 3
   },
   "file_extension": ".py",
   "mimetype": "text/x-python",
   "name": "python",
   "nbconvert_exporter": "python",
   "pygments_lexer": "ipython3",
   "version": "3.8.13"
  },
  "orig_nbformat": 4
 },
 "nbformat": 4,
 "nbformat_minor": 2
}
